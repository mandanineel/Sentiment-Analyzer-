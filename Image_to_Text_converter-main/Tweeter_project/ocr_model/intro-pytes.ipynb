{
 "cells": [
  {
   "cell_type": "code",
   "execution_count": 1,
   "metadata": {},
   "outputs": [],
   "source": [
    "import pytesseract\n",
    "from PIL import Image"
   ]
  },
  {
   "cell_type": "code",
   "execution_count": 10,
   "metadata": {},
   "outputs": [],
   "source": [
    "img_file = \"tweet04.jpg\"\n",
    "no_noise = \"temp/no_noise02.jpg\"\n"
   ]
  },
  {
   "cell_type": "code",
   "execution_count": 11,
   "metadata": {},
   "outputs": [],
   "source": [
    "img = Image.open(img_file)\n",
    "img02 = Image.open(no_noise)"
   ]
  },
  {
   "cell_type": "code",
   "execution_count": 12,
   "metadata": {},
   "outputs": [],
   "source": [
    "ocr_result = pytesseract.image_to_string(img)\n",
    "ocr_result02 = pytesseract.image_to_string(img02)\n"
   ]
  },
  {
   "cell_type": "code",
   "execution_count": 13,
   "metadata": {},
   "outputs": [
    {
     "name": "stdout",
     "output_type": "stream",
     "text": [
      "Nee @==.\n",
      "\n",
      "‘Aterlesningthemeanngtatind is} monde hon baztotis tele\n",
      "\n",
      "Scaled sent paniian fea cencrred He deat\n",
      "DSGUSTED ond ASHAMED the\n",
      "\n",
      "atte, Someting NEEDS tbe on\n",
      "\n",
      "00\n",
      "\n",
      "== <== e==\n",
      "\n",
      "‘why 0753 tg kathy onto a oftware to gh\n",
      "\n",
      "those wows bs lbaqickto say | who sy tos abock sen\n",
      "\n",
      "Semovrngtenitsboutosron® — | sulvet them he some ait\n",
      "SRS ‘seule percent\n",
      "\n",
      "\n"
     ]
    }
   ],
   "source": [
    "print (ocr_result)"
   ]
  },
  {
   "cell_type": "code",
   "execution_count": 13,
   "metadata": {},
   "outputs": [
    {
     "name": "stdout",
     "output_type": "stream",
     "text": [
      "BLACKCAPS @ v\n",
      "@BLACKCAPS:\n",
      "\n",
      "Our heantfelt condolences go out fo the families and friends of\n",
      "those affected by the shocking situation in Christchurch. A joint\n",
      "decision between NZC and the @BCBiigers has been made to\n",
      "cancel tie Hagley Oval Tast. Again both teas and support staff\n",
      "groups are safe.\n",
      "\n",
      "4651 10.01 AM-Mar 15, 2019 e\n",
      "\n",
      "© 1,112 peopie are taiking about ths >\n",
      "\n"
     ]
    }
   ],
   "source": [
    "print (ocr_result02)"
   ]
  },
  {
   "cell_type": "code",
   "execution_count": null,
   "metadata": {},
   "outputs": [],
   "source": []
  }
 ],
 "metadata": {
  "kernelspec": {
   "display_name": "Python 3",
   "language": "python",
   "name": "python3"
  },
  "language_info": {
   "codemirror_mode": {
    "name": "ipython",
    "version": 3
   },
   "file_extension": ".py",
   "mimetype": "text/x-python",
   "name": "python",
   "nbconvert_exporter": "python",
   "pygments_lexer": "ipython3",
   "version": "3.10.5"
  },
  "orig_nbformat": 4
 },
 "nbformat": 4,
 "nbformat_minor": 2
}
